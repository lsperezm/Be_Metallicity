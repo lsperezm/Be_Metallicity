{
 "cells": [
  {
   "cell_type": "code",
   "execution_count": null,
   "id": "abdc1c34-4467-4fb4-8cb9-8937d5bf8201",
   "metadata": {},
   "outputs": [],
   "source": []
  }
 ],
 "metadata": {
  "kernelspec": {
   "display_name": "",
   "name": ""
  },
  "language_info": {
   "name": ""
  }
 },
 "nbformat": 4,
 "nbformat_minor": 5
}
