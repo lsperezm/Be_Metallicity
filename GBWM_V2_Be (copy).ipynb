{
 "cells": [
  {
   "cell_type": "code",
   "execution_count": 1,
   "id": "021d0566",
   "metadata": {},
   "outputs": [],
   "source": [
    "import os\n",
    "import matplotlib.pyplot as plt\n",
    "from astropy.io import fits\n",
    "from astropy.wcs import WCS\n",
    "import numpy as np\n",
    "import pandas as pd\n",
    "from PyAstronomy import pyasl\n",
    "from ipynb.fs.full.BWM import EW\n",
    "from tqdm import tqdm\n",
    "import warnings"
   ]
  },
  {
   "cell_type": "code",
   "execution_count": 2,
   "id": "2071fe48",
   "metadata": {},
   "outputs": [
    {
     "data": {
      "text/plain": [
       "['ADP.2021-02-01T09_58_47.729.fits']"
      ]
     },
     "execution_count": 2,
     "metadata": {},
     "output_type": "execute_result"
    }
   ],
   "source": [
    "_fits = [i for i in os.listdir() if i.endswith('.fits')]\n",
    "_fits.sort()\n",
    "\n",
    "len(_fits)\n",
    "_fits"
   ]
  },
  {
   "cell_type": "code",
   "execution_count": 3,
   "id": "fe8e9834",
   "metadata": {},
   "outputs": [],
   "source": [
    "wb= 6 \n",
    "cb= 6540\n",
    "cr= 6585\n",
    "wr= 6\n",
    "wf= 8\n",
    "cf = 6563\n",
    "n_iter = 100"
   ]
  },
  {
   "cell_type": "code",
   "execution_count": 6,
   "id": "79965efb",
   "metadata": {},
   "outputs": [
    {
     "name": "stderr",
     "output_type": "stream",
     "text": [
      "100%|█████████████████████████████████████████████| 1/1 [00:00<00:00, 17.54it/s]\n"
     ]
    },
    {
     "data": {
      "image/png": "[encoded data removed]",
      "text/plain": [
       "<Figure size 432x288 with 1 Axes>"
      ]
     },
     "metadata": {
      "needs_background": "light"
     },
     "output_type": "display_data"
    }
   ],
   "source": [
    "EW_sst = []\n",
    "for j in tqdm(_fits):\n",
    "    \n",
    "     with fits.open(j) as hdul:\n",
    "        h1 = hdul[1].header                             \n",
    "        data = hdul[1].data[0]                          \n",
    "        fl = data[1]\n",
    "        efl = data[2]\n",
    "        wl = data[0] - 5   \n",
    "        \n",
    "        plt.plot(wl, fl)\n",
    "        plt.xlim(6530,6600)\n",
    "\n",
    "        SampleEW = []\n",
    "        \n",
    "        #EWme = EW(wl, fl, cf, wf, cb, wb, cr, wr, n_iter)\n",
    "        #EWme\n"
   ]
  },
  {
   "cell_type": "code",
   "execution_count": 7,
   "id": "10972044",
   "metadata": {},
   "outputs": [
    {
     "data": {
      "text/plain": [
       "(2.278922052620257, 0.00099716224166113)"
      ]
     },
     "execution_count": 7,
     "metadata": {},
     "output_type": "execute_result"
    }
   ],
   "source": [
    "EWme = EW(wl, fl, cf, wf, cb, wb, cr, wr, n_iter)\n",
    "EWme"
   ]
  },
  {
   "cell_type": "code",
   "execution_count": null,
   "id": "2112d615",
   "metadata": {},
   "outputs": [],
   "source": []
  }
 ],
 "metadata": {
  "kernelspec": {
   "display_name": "Python 3 (ipykernel)",
   "language": "python",
   "name": "python3"
  },
  "language_info": {
   "codemirror_mode": {
    "name": "ipython",
    "version": 3
   },
   "file_extension": ".py",
   "mimetype": "text/x-python",
   "name": "python",
   "nbconvert_exporter": "python",
   "pygments_lexer": "ipython3",
   "version": "3.9.7"
  }
 },
 "nbformat": 4,
 "nbformat_minor": 5
}
